{
 "cells": [
  {
   "cell_type": "markdown",
   "id": "b7fc9401-3de5-4ece-b288-3b211e7e1831",
   "metadata": {},
   "source": [
    "# PySpark - Create Data Frame from List or RDD on the fly"
   ]
  },
  {
   "cell_type": "code",
   "execution_count": null,
   "id": "58bc3416-4671-4b0f-a9b1-6b669f1f2d06",
   "metadata": {},
   "outputs": [],
   "source": []
  }
 ],
 "metadata": {
  "kernelspec": {
   "display_name": "Python 3 (ipykernel)",
   "language": "python",
   "name": "python3"
  },
  "language_info": {
   "codemirror_mode": {
    "name": "ipython",
    "version": 3
   },
   "file_extension": ".py",
   "mimetype": "text/x-python",
   "name": "python",
   "nbconvert_exporter": "python",
   "pygments_lexer": "ipython3",
   "version": "3.10.6"
  }
 },
 "nbformat": 4,
 "nbformat_minor": 5
}
